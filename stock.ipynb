{
 "cells": [
  {
   "cell_type": "markdown",
   "metadata": {
    "colab_type": "text",
    "id": "SfyEUpen90Jm"
   },
   "source": [
    "Description: artificial recurrent neural network, Long Short Term Memory (LSTM).<br>\n",
    "&emsp;&emsp;Using (size) 60 days stock price to predict the closing stock price of Apple on (nxt) 7 day."
   ]
  },
  {
   "cell_type": "code",
   "execution_count": null,
   "metadata": {
    "colab": {
     "base_uri": "https://localhost:8080/",
     "height": 88
    },
    "colab_type": "code",
    "executionInfo": {
     "elapsed": 2587,
     "status": "ok",
     "timestamp": 1589770802191,
     "user": {
      "displayName": "Chang Liu",
      "photoUrl": "",
      "userId": "09036893343136739270"
     },
     "user_tz": 420
    },
    "id": "26JNJu1s-Nuu",
    "outputId": "c766f87d-17c4-4a4e-e6dc-573fc2c20462"
   },
   "outputs": [],
   "source": [
    "# import\n",
    "import math\n",
    "# import pandas_datareader as web\n",
    "from yahoo_download import get_yahoo_hist_df, DATETIME_FORMAT\n",
    "import numpy as np\n",
    "import pandas as pd\n",
    "from sklearn.preprocessing import MinMaxScaler\n",
    "from tensorflow.keras.models import Sequential\n",
    "from tensorflow.keras.layers import Dense, LSTM\n",
    "import matplotlib.pyplot as plt\n",
    "plt.style.use('fivethirtyeight')"
   ]
  },
  {
   "cell_type": "raw",
   "metadata": {
    "colab": {
     "base_uri": "https://localhost:8080/",
     "height": 450
    },
    "colab_type": "code",
    "executionInfo": {
     "elapsed": 3156,
     "status": "ok",
     "timestamp": 1589770802771,
     "user": {
      "displayName": "Chang Liu",
      "photoUrl": "",
      "userId": "09036893343136739270"
     },
     "user_tz": 420
    },
    "id": "aOi9j5ZV-zMs",
    "outputId": "276b67a1-91cd-4f6c-8a60-9dd3b695844b"
   },
   "source": [
    "# get the stock quote\n",
    "df = web.DataReader('AAPL', data_source='yahoo', start='2009-01-01', end='2019-12-17')\n",
    "df"
   ]
  },
  {
   "cell_type": "code",
   "execution_count": null,
   "metadata": {},
   "outputs": [],
   "source": [
    "df = get_yahoo_hist_df('AAPL', start_str='2009-01-01')\n",
    "df['Date'] = pd.to_datetime(df['Date'], format=DATETIME_FORMAT)\n",
    "actual_df = df[['Date', 'Close']]"
   ]
  },
  {
   "cell_type": "code",
   "execution_count": null,
   "metadata": {
    "colab": {
     "base_uri": "https://localhost:8080/",
     "height": 518
    },
    "colab_type": "code",
    "executionInfo": {
     "elapsed": 3349,
     "status": "ok",
     "timestamp": 1589770802978,
     "user": {
      "displayName": "Chang Liu",
      "photoUrl": "",
      "userId": "09036893343136739270"
     },
     "user_tz": 420
    },
    "id": "f7fEivFc_YiW",
    "outputId": "969c2c2d-127b-4183-bf3c-a0690e49de11"
   },
   "outputs": [],
   "source": [
    "# visualize\n",
    "plt.figure(figsize = (16, 8))\n",
    "plt.title('Close Price History')\n",
    "plt.plot(actual_df['Date'], actual_df['Close'])\n",
    "plt.xlabel('Date', fontsize=18)\n",
    "plt.ylabel('Close Price', fontsize=18)\n",
    "plt.show()"
   ]
  },
  {
   "cell_type": "code",
   "execution_count": null,
   "metadata": {
    "colab": {},
    "colab_type": "code",
    "id": "Z5JxjpINt6Aj"
   },
   "outputs": [],
   "source": [
    "# use size days data, to predict nxt day's price.\n",
    "# 60, 1 => 60 days price, to predict 61th day price.\n",
    "# 60, 7 => same 60 days price, to predict 67th day price.\n",
    "size = 60\n",
    "nxt = 10"
   ]
  },
  {
   "cell_type": "code",
   "execution_count": null,
   "metadata": {
    "colab": {
     "base_uri": "https://localhost:8080/",
     "height": 34
    },
    "colab_type": "code",
    "executionInfo": {
     "elapsed": 3343,
     "status": "ok",
     "timestamp": 1589770802979,
     "user": {
      "displayName": "Chang Liu",
      "photoUrl": "",
      "userId": "09036893343136739270"
     },
     "user_tz": 420
    },
    "id": "XMl-o0M6AfQc",
    "outputId": "8131091e-9eec-4cce-e680-4dd36132d652"
   },
   "outputs": [],
   "source": [
    "# create a dataframe with only the 'close' column\n",
    "data = df.filter(['Close'])\n",
    "# convert to numpy array\n",
    "dataset = data.values\n",
    "# scale the data\n",
    "scaler = MinMaxScaler(feature_range=(0, 1))\n",
    "scaled_data = scaler.fit_transform(dataset)\n",
    "scaled_data"
   ]
  },
  {
   "cell_type": "code",
   "execution_count": null,
   "metadata": {},
   "outputs": [],
   "source": [
    "# the number of rows to train the model\n",
    "# training_data_len = math.ceil(len(dataset) * 0.8)\n",
    "training_data_len = len(dataset) - 200\n",
    "print(f'training_data={training_data_len}, size={size}, next={nxt}')\n",
    "if (training_data_len + size + nxt >= len(dataset)):\n",
    "    raise SystemExit('dataset is too small !!!')"
   ]
  },
  {
   "cell_type": "code",
   "execution_count": null,
   "metadata": {
    "colab": {},
    "colab_type": "code",
    "id": "ttbhYiDsAfWi"
   },
   "outputs": [],
   "source": [
    "# create the training dataset\n",
    "# split into x_train and y_train\n",
    "x_train = []\n",
    "y_train = []\n",
    "for i in range(size, training_data_len):\n",
    "    x_train.append(scaled_data[i - size : i, 0])\n",
    "    y_train.append(scaled_data[i + (nxt - 1), 0])"
   ]
  },
  {
   "cell_type": "code",
   "execution_count": null,
   "metadata": {
    "colab": {
     "base_uri": "https://localhost:8080/",
     "height": 34
    },
    "colab_type": "code",
    "executionInfo": {
     "elapsed": 3615,
     "status": "ok",
     "timestamp": 1589770803272,
     "user": {
      "displayName": "Chang Liu",
      "photoUrl": "",
      "userId": "09036893343136739270"
     },
     "user_tz": 420
    },
    "id": "U1wRqErnAfci",
    "outputId": "201e9a42-6d18-4e00-c1dc-2987b7c18bf4"
   },
   "outputs": [],
   "source": [
    "# convert teh x_train and y_train to numpy arrays\n",
    "x_train, y_train = np.array(x_train), np.array(y_train)\n",
    "x_train.shape"
   ]
  },
  {
   "cell_type": "code",
   "execution_count": null,
   "metadata": {
    "colab": {},
    "colab_type": "code",
    "id": "GmOaDafIPROq"
   },
   "outputs": [],
   "source": [
    "#x_train.shape.to_list()"
   ]
  },
  {
   "cell_type": "code",
   "execution_count": null,
   "metadata": {
    "colab": {
     "base_uri": "https://localhost:8080/",
     "height": 34
    },
    "colab_type": "code",
    "executionInfo": {
     "elapsed": 3605,
     "status": "ok",
     "timestamp": 1589770803275,
     "user": {
      "displayName": "Chang Liu",
      "photoUrl": "",
      "userId": "09036893343136739270"
     },
     "user_tz": 420
    },
    "id": "tFyVr5diAffr",
    "outputId": "36525f76-cdb7-4c92-e153-681fa7be9cf0"
   },
   "outputs": [],
   "source": [
    "# reshape the data\n",
    "x_train = np.reshape(x_train, (x_train.shape[0], x_train.shape[1], 1))\n",
    "x_train.shape"
   ]
  },
  {
   "cell_type": "code",
   "execution_count": null,
   "metadata": {
    "colab": {},
    "colab_type": "code",
    "id": "TBujg20eDeOT"
   },
   "outputs": [],
   "source": [
    "# build the LSTM model \n",
    "model = Sequential()\n",
    "model.add(LSTM(50, return_sequences=True, input_shape=(x_train.shape[1], 1)))\n",
    "model.add(LSTM(50, return_sequences=False))\n",
    "model.add(Dense(25))\n",
    "model.add(Dense(1))"
   ]
  },
  {
   "cell_type": "code",
   "execution_count": null,
   "metadata": {
    "colab": {},
    "colab_type": "code",
    "id": "rQAdNoyyDebI"
   },
   "outputs": [],
   "source": [
    "# compile the model\n",
    "model.compile(optimizer='adam', loss='mean_squared_error')"
   ]
  },
  {
   "cell_type": "code",
   "execution_count": null,
   "metadata": {
    "colab": {
     "base_uri": "https://localhost:8080/",
     "height": 68
    },
    "colab_type": "code",
    "executionInfo": {
     "elapsed": 67137,
     "status": "ok",
     "timestamp": 1589770866818,
     "user": {
      "displayName": "Chang Liu",
      "photoUrl": "",
      "userId": "09036893343136739270"
     },
     "user_tz": 420
    },
    "id": "-IbFOTj0DeeQ",
    "outputId": "25d08e8f-6fbf-43bb-9d48-b298f1d86049"
   },
   "outputs": [],
   "source": [
    "# train the model\n",
    "# this takes a long long time.\n",
    "# model.fit(x_train, y_train, batch_size=1, epochs=1)\n",
    "model.fit(x_train, y_train, epochs=20)"
   ]
  },
  {
   "cell_type": "markdown",
   "metadata": {},
   "source": [
    "## done model training"
   ]
  },
  {
   "cell_type": "code",
   "execution_count": null,
   "metadata": {},
   "outputs": [],
   "source": [
    "# get the predicted values\n",
    "predictions = model.predict(x_train)\n",
    "predictions = scaler.inverse_transform(predictions)\n",
    "train_df = pd.DataFrame(predictions, columns=['Train'])"
   ]
  },
  {
   "cell_type": "code",
   "execution_count": null,
   "metadata": {},
   "outputs": [],
   "source": [
    "train_df = pd.DataFrame(predictions, columns=['TrainData'])\n",
    "train_df['Date'] = actual_df['Date'].iloc[size:size + train_df.shape[0]].values\n",
    "train_df.head(3)"
   ]
  },
  {
   "cell_type": "code",
   "execution_count": null,
   "metadata": {
    "colab": {},
    "colab_type": "code",
    "id": "O7dZUXQuDehA"
   },
   "outputs": [],
   "source": [
    "# testing dataset\n",
    "# fill future y_test with last valid one \n",
    "x_test = []\n",
    "y_test = []\n",
    "y_date_len = len(scaled_data) - (nxt - 1)\n",
    "for i in range(training_data_len, y_date_len):\n",
    "    x_test.append(scaled_data[i - size : i, 0])\n",
    "    y_test.append(scaled_data[i + (nxt - 1), 0])"
   ]
  },
  {
   "cell_type": "code",
   "execution_count": null,
   "metadata": {
    "colab": {},
    "colab_type": "code",
    "id": "10tzibIuAfik"
   },
   "outputs": [],
   "source": [
    "# convert to numpy array\n",
    "x_test = np.array(x_test)\n",
    "# reshape\n",
    "x_test = np.reshape(x_test, (x_test.shape[0], x_test.shape[1], 1))"
   ]
  },
  {
   "cell_type": "code",
   "execution_count": null,
   "metadata": {
    "colab": {},
    "colab_type": "code",
    "id": "bPwBRz-SGs-H"
   },
   "outputs": [],
   "source": [
    "# get the predicted values\n",
    "predictions = model.predict(x_test)\n",
    "predictions = scaler.inverse_transform(predictions)"
   ]
  },
  {
   "cell_type": "code",
   "execution_count": null,
   "metadata": {},
   "outputs": [],
   "source": [
    "test_df = pd.DataFrame(predictions, columns=['TestData'])\n",
    "test_df['Date'] = actual_df['Date'].iloc[training_data_len + nxt - 1 : ].values\n",
    "test_df.head(3)"
   ]
  },
  {
   "cell_type": "code",
   "execution_count": null,
   "metadata": {
    "colab": {
     "base_uri": "https://localhost:8080/",
     "height": 34
    },
    "colab_type": "code",
    "executionInfo": {
     "elapsed": 67348,
     "status": "ok",
     "timestamp": 1589770867041,
     "user": {
      "displayName": "Chang Liu",
      "photoUrl": "",
      "userId": "09036893343136739270"
     },
     "user_tz": 420
    },
    "id": "j6T0LgyyGtH-",
    "outputId": "38446328-9e79-4972-fc18-e8d537ce9120"
   },
   "outputs": [],
   "source": [
    "# get the root mean square error (RMSE)\n",
    "youtube = np.sqrt(np.mean(predictions - y_test) ** 2)\n",
    "rmse = np.sqrt(np.mean((predictions - y_test) ** 2))\n",
    "print(f'youtube={youtube}, rmse={rmse}')"
   ]
  },
  {
   "cell_type": "code",
   "execution_count": null,
   "metadata": {},
   "outputs": [],
   "source": [
    "train_delta_df = pd.merge(actual_df, train_df, on='Date')\n",
    "train_delta_df['TrainDelta'] = train_delta_df.apply(lambda row: row['TrainData'] - row['Close'], axis='columns')"
   ]
  },
  {
   "cell_type": "code",
   "execution_count": null,
   "metadata": {},
   "outputs": [],
   "source": [
    "test_delta_df = pd.merge(actual_df, test_df, on='Date')\n",
    "test_delta_df['TestDelta'] = test_delta_df.apply(lambda row: row['TestData'] - row['Close'], axis='columns')"
   ]
  },
  {
   "cell_type": "code",
   "execution_count": null,
   "metadata": {},
   "outputs": [],
   "source": [
    "# Visualize\n",
    "plt.figure(figsize=(16, 8))\n",
    "plt.title('Model')\n",
    "plt.xlabel('Date', fontsize=18)\n",
    "plt.ylabel('Close Price', fontsize = 18)\n",
    "plt.plot(actual_df['Date'], actual_df['Close'])\n",
    "plt.plot(train_df['Date'], train_df['TrainData'])\n",
    "plt.plot(test_df['Date'], test_df['TestData'])\n",
    "plt.plot(test_delta_df['Date'], test_delta_df['TestDelta'])\n",
    "plt.legend(['Actual', 'Train', 'Test', 'TestDelat'], loc='upper left')\n",
    "plt.show()"
   ]
  },
  {
   "cell_type": "code",
   "execution_count": null,
   "metadata": {},
   "outputs": [],
   "source": [
    "# Visualize\n",
    "title = str(nxt) + ' Trading Days Predication'\n",
    "plt.figure(figsize=(16, 8))\n",
    "plt.title(title)\n",
    "plt.xlabel('Date', fontsize=18)\n",
    "plt.ylabel('Delta', fontsize = 18)\n",
    "plt.plot(test_delta_df['Date'], test_delta_df['Close'])\n",
    "plt.plot(test_delta_df['Date'], test_delta_df['TestData'])\n",
    "plt.plot(test_delta_df['Date'], test_delta_df['TestDelta'])\n",
    "plt.legend(['Close', 'TestData', 'TestDelta'], loc='upper left')\n",
    "plt.show()"
   ]
  },
  {
   "cell_type": "code",
   "execution_count": null,
   "metadata": {},
   "outputs": [],
   "source": [
    "test_delta_df"
   ]
  },
  {
   "cell_type": "raw",
   "metadata": {},
   "source": [
    "# Visualize\n",
    "plt.figure(figsize=(16, 8))\n",
    "plt.title('Model Delta')\n",
    "plt.xlabel('Date', fontsize=18)\n",
    "plt.ylabel('Delta', fontsize = 18)\n",
    "plt.plot(train_delta_df['Date'], train_delta_df['TrainDelta'])\n",
    "plt.plot(test_delta_df['Date'], test_delta_df['TestDelta'])\n",
    "plt.legend(['TrainDelta', 'TestDelta'], loc='lower right')\n",
    "plt.show()"
   ]
  },
  {
   "cell_type": "raw",
   "metadata": {
    "colab": {
     "base_uri": "https://localhost:8080/",
     "height": 620
    },
    "colab_type": "code",
    "executionInfo": {
     "elapsed": 67722,
     "status": "ok",
     "timestamp": 1589770867432,
     "user": {
      "displayName": "Chang Liu",
      "photoUrl": "",
      "userId": "09036893343136739270"
     },
     "user_tz": 420
    },
    "id": "9Ce-zT7OGtK2",
    "outputId": "38cbfd1f-882f-45a8-ff51-f53905d56504"
   },
   "source": [
    "# plot the data\n",
    "train = data[: training_data_len]\n",
    "valid = data[training_data_len : ].copy()\n",
    "valid['Predictions'] = predictions\n",
    "# Visualize\n",
    "plt.figure(figsize=(16, 8))\n",
    "plt.title('Model')\n",
    "plt.xlabel('Date', fontsize=18)\n",
    "plt.ylabel('Close Price', fontsize = 18)\n",
    "plt.plot(train['Close'])\n",
    "plt.plot(valid[['Close', 'Predictions']])\n",
    "plt.legend(['Train', 'Val', 'Predictions'], loc='lower right')\n",
    "plt.show()"
   ]
  },
  {
   "cell_type": "code",
   "execution_count": null,
   "metadata": {},
   "outputs": [],
   "source": []
  }
 ],
 "metadata": {
  "colab": {
   "authorship_tag": "ABX9TyNORWhOLElrG6DeJPLzKUXH",
   "collapsed_sections": [],
   "name": "stock_mod.ipynb",
   "provenance": [
    {
     "file_id": "1w-JRvSMfw0TGGxH8KLxfK91cShDaDzZu",
     "timestamp": 1589748322381
    }
   ]
  },
  "kernelspec": {
   "display_name": "mlenv",
   "language": "python",
   "name": "mlenv"
  },
  "language_info": {
   "codemirror_mode": {
    "name": "ipython",
    "version": 3
   },
   "file_extension": ".py",
   "mimetype": "text/x-python",
   "name": "python",
   "nbconvert_exporter": "python",
   "pygments_lexer": "ipython3",
   "version": "3.7.7"
  }
 },
 "nbformat": 4,
 "nbformat_minor": 1
}
